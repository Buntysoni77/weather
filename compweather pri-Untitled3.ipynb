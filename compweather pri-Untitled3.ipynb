{
 "cells": [
  {
   "cell_type": "code",
   "execution_count": 14,
   "id": "50e6ea88-02c4-4515-9a42-71682dc20716",
   "metadata": {},
   "outputs": [],
   "source": [
    "# 🌦️ Interactive Weather Prediction — Safe & Fast Single File\n",
    "\n",
    "import pandas as pd\n",
    "from sklearn.preprocessing import LabelEncoder\n",
    "from sklearn.ensemble import RandomForestRegressor, RandomForestClassifier"
   ]
  },
  {
   "cell_type": "code",
   "execution_count": 15,
   "id": "64bed6ee-5e30-48a7-b730-16538e212aef",
   "metadata": {},
   "outputs": [
    {
     "name": "stdout",
     "output_type": "stream",
     "text": [
      "\n",
      "📂 Loading dataset...\n",
      "✅ Dataset loaded with 1000000 rows and 6 columns\n"
     ]
    }
   ],
   "source": [
    "# 1️⃣ Load Dataset\n",
    "# -----------------------------\n",
    "print(\"\\n📂 Loading dataset...\")\n",
    "data = pd.read_csv(\"weather_data.csv\")\n",
    "data = data.dropna()\n",
    "print(f\"✅ Dataset loaded with {len(data)} rows and {len(data.columns)} columns\")"
   ]
  },
  {
   "cell_type": "code",
   "execution_count": 16,
   "id": "b602c1df-3b68-4624-9b4e-e387a14cabb3",
   "metadata": {},
   "outputs": [],
   "source": [
    "# Encode Location\n",
    "le = LabelEncoder()\n",
    "data['Location'] = le.fit_transform(data['Location'])"
   ]
  },
  {
   "cell_type": "code",
   "execution_count": 17,
   "id": "0d6cfcda-d7d7-4f83-9c42-d32c65c652b6",
   "metadata": {},
   "outputs": [],
   "source": [
    "# Drop Date_Time if exists\n",
    "if 'Date_Time' in data.columns:\n",
    "    data = data.drop(columns=['Date_Time'])"
   ]
  },
  {
   "cell_type": "code",
   "execution_count": 18,
   "id": "3631529a-b116-4b8d-9b0c-9ab3aa522827",
   "metadata": {},
   "outputs": [],
   "source": [
    "# 2️⃣ Add Classification Target\n",
    "# -----------------------------\n",
    "def categorize_temp(temp):\n",
    "    if temp < 10:\n",
    "        return \"Cold\"\n",
    "    elif temp < 25:\n",
    "        return \"Mild\"\n",
    "    else:\n",
    "        return \"Hot\"\n",
    "\n",
    "data['Weather_Category'] = data['Temperature_C'].apply(categorize_temp)"
   ]
  },
  {
   "cell_type": "code",
   "execution_count": 19,
   "id": "ebf6d0bd-c3e5-433b-8a48-65ce12d6a0a1",
   "metadata": {},
   "outputs": [
    {
     "name": "stdout",
     "output_type": "stream",
     "text": [
      "⚡ Large dataset detected — using a sample of 2000 rows for fast training\n"
     ]
    }
   ],
   "source": [
    "# 3️⃣ Optional: Sample for faster training\n",
    "# -----------------------------\n",
    "if len(data) > 2000:\n",
    "    print(\"⚡ Large dataset detected — using a sample of 2000 rows for fast training\")\n",
    "    data_sample = data.sample(2000, random_state=42)\n",
    "else:\n",
    "    data_sample = data.copy()"
   ]
  },
  {
   "cell_type": "code",
   "execution_count": 20,
   "id": "53efefd3-54fd-42f4-9f27-4d8ad76c4b33",
   "metadata": {},
   "outputs": [
    {
     "name": "stdout",
     "output_type": "stream",
     "text": [
      "\n",
      "⏳ Training models... please wait\n",
      "✅ Regression model trained!\n"
     ]
    }
   ],
   "source": [
    "# 4️⃣ Train Models (Once)\n",
    "# -----------------------------\n",
    "print(\"\\n⏳ Training models... please wait\")\n",
    "\n",
    "# Regression\n",
    "X_reg = data_sample.drop(columns=['Temperature_C', 'Weather_Category'])\n",
    "y_reg = data_sample['Temperature_C']\n",
    "reg_model = RandomForestRegressor(n_estimators=50, random_state=42)\n",
    "reg_model.fit(X_reg, y_reg)\n",
    "print(\"✅ Regression model trained!\")"
   ]
  },
  {
   "cell_type": "code",
   "execution_count": 21,
   "id": "0f1aa456-f5e3-4237-9e44-252f29563256",
   "metadata": {},
   "outputs": [
    {
     "name": "stdout",
     "output_type": "stream",
     "text": [
      "✅ Classification model trained!\n"
     ]
    }
   ],
   "source": [
    "\n",
    "# Classification\n",
    "X_clf = X_reg.copy()\n",
    "y_clf = data_sample['Weather_Category']\n",
    "clf_model = RandomForestClassifier(n_estimators=50, random_state=42)\n",
    "clf_model.fit(X_clf, y_clf)\n",
    "print(\"✅ Classification model trained!\")"
   ]
  },
  {
   "cell_type": "code",
   "execution_count": 22,
   "id": "1fcea0ec-4757-447e-9cbb-b847d1f7a812",
   "metadata": {},
   "outputs": [
    {
     "name": "stdout",
     "output_type": "stream",
     "text": [
      "✅ Models saved successfully in 'models' folder!\n"
     ]
    }
   ],
   "source": [
    "import os\n",
    "import joblib\n",
    "\n",
    "try:\n",
    "    os.makedirs(\"models\", exist_ok=True)\n",
    "    joblib.dump(reg_model, \"models/regression_model.pkl\")\n",
    "    joblib.dump(clf_model, \"models/classification_model.pkl\")\n",
    "    joblib.dump(le, \"models/labelencoder.pkl\")\n",
    "    print(\"✅ Models saved successfully in 'models' folder!\")\n",
    "except Exception as e:\n",
    "    print(\"❌ Error:\", e)"
   ]
  },
  {
   "cell_type": "code",
   "execution_count": 24,
   "id": "ddf54858-b0a8-4765-8e8d-84dd71b7f294",
   "metadata": {},
   "outputs": [
    {
     "name": "stdout",
     "output_type": "stream",
     "text": [
      "\n",
      "--- New Prediction ---\n"
     ]
    },
    {
     "name": "stdin",
     "output_type": "stream",
     "text": [
      "Enter Location (or 'quit' to exit):  quit\n"
     ]
    },
    {
     "name": "stdout",
     "output_type": "stream",
     "text": [
      "👋 Exiting program. Goodbye!\n"
     ]
    }
   ],
   "source": [
    "while True:\n",
    "    print(\"\\n--- New Prediction ---\")\n",
    "    user_location = input(\"Enter Location (or 'quit' to exit): \").strip()\n",
    "    if user_location.lower() == \"quit\":\n",
    "        print(\"👋 Exiting program. Goodbye!\")\n",
    "        break\n",
    "\n",
    "    try:\n",
    "        user_humidity = float(input(\"Enter Humidity (%): \"))\n",
    "        user_precip = float(input(\"Enter Precipitation (mm): \"))\n",
    "        user_wind = float(input(\"Enter Wind Speed (km/h): \"))\n",
    "    except ValueError:\n",
    "        print(\"❌ Invalid numeric input. Please try again.\")\n",
    "        continue\n",
    "\n",
    "    # Encode location safely\n",
    "    loc_value = le.transform([user_location])[0] if user_location in le.classes_ else 0\n",
    "\n",
    "    input_data = pd.DataFrame([{\n",
    "        \"Location\": loc_value,\n",
    "        \"Humidity_pct\": user_humidity,\n",
    "        \"Precipitation_mm\": user_precip,\n",
    "        \"Wind_Speed_kmh\": user_wind\n",
    "    }])\n",
    "\n",
    "     # -----------------------------\n",
    "    # 6️⃣ Predict Both Regression & Classification\n",
    "    # -----------------------------\n",
    "    temp_prediction = reg_model.predict(inputmum_data)[0]\n",
    "    weather_prediction = clf_model.predict(input_data)[0]\n",
    "\n",
    "    print(f\"\\n🌡️ Predicted Temperature: {round(temp_prediction, 2)} °C\")\n",
    "    print(f\"☁️ Predicted Weather Category: {weather_prediction}\")"
   ]
  },
  {
   "cell_type": "code",
   "execution_count": 25,
   "id": "4f51e146-a9c3-497a-bba3-f6cd269b97b4",
   "metadata": {},
   "outputs": [
    {
     "name": "stdout",
     "output_type": "stream",
     "text": [
      "['classification_model.pkl', 'labelencoder.pkl', 'regression_model.pkl']\n"
     ]
    }
   ],
   "source": [
    "import os\n",
    "\n",
    "print(os.listdir(\"models\"))\n"
   ]
  },
  {
   "cell_type": "code",
   "execution_count": 26,
   "id": "c8a55c20-1b85-44cc-9b63-ee482a0f4885",
   "metadata": {},
   "outputs": [
    {
     "name": "stdout",
     "output_type": "stream",
     "text": [
      "C:\\Users\\lenovo pc\n"
     ]
    }
   ],
   "source": [
    "import os\n",
    "print(os.getcwd())\n"
   ]
  },
  {
   "cell_type": "code",
   "execution_count": 27,
   "id": "2d71fd3e-5afa-423f-9952-aa8aa3c2ae25",
   "metadata": {},
   "outputs": [
    {
     "name": "stdout",
     "output_type": "stream",
     "text": [
      "✅ Models saved successfully!\n"
     ]
    }
   ],
   "source": [
    "import joblib, os\n",
    "\n",
    "# Make sure these variables already exist:\n",
    "# reg_model = your regression model\n",
    "# clf_model = your classification model\n",
    "# le = your LabelEncoder (used for categories)\n",
    "\n",
    "# Create the models folder if it doesn't exist\n",
    "os.makedirs(\"models\", exist_ok=True)\n",
    "\n",
    "# Save all models freshly\n",
    "joblib.dump(reg_model, \"models/regression_model.pkl\")\n",
    "joblib.dump(clf_model, \"models/classification_model.pkl\")\n",
    "joblib.dump(le, \"models/labelencoder.pkl\")\n",
    "\n",
    "print(\"✅ Models saved successfully!\")\n"
   ]
  },
  {
   "cell_type": "code",
   "execution_count": null,
   "id": "3aaa04db-bb3f-4a6e-b9a8-70b82d025eb9",
   "metadata": {},
   "outputs": [],
   "source": []
  }
 ],
 "metadata": {
  "kernelspec": {
   "display_name": "Python 3 (ipykernel)",
   "language": "python",
   "name": "python3"
  },
  "language_info": {
   "codemirror_mode": {
    "name": "ipython",
    "version": 3
   },
   "file_extension": ".py",
   "mimetype": "text/x-python",
   "name": "python",
   "nbconvert_exporter": "python",
   "pygments_lexer": "ipython3",
   "version": "3.13.5"
  }
 },
 "nbformat": 4,
 "nbformat_minor": 5
}
